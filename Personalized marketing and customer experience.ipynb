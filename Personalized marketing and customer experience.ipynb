{
  "nbformat": 4,
  "nbformat_minor": 0,
  "metadata": {
    "colab": {
      "provenance": [],
      "authorship_tag": "ABX9TyMqWH/v2r81ucEmsu0gO30j",
      "include_colab_link": true
    },
    "kernelspec": {
      "name": "python3",
      "display_name": "Python 3"
    },
    "language_info": {
      "name": "python"
    }
  },
  "cells": [
    {
      "cell_type": "markdown",
      "metadata": {
        "id": "view-in-github",
        "colab_type": "text"
      },
      "source": [
        "<a href=\"https://colab.research.google.com/github/Omar-A-hmed/NAAN-MUDHALVAN-FINAL-PROJECT/blob/main/Personalized%20marketing%20and%20customer%20experience.ipynb\" target=\"_parent\"><img src=\"https://colab.research.google.com/assets/colab-badge.svg\" alt=\"Open In Colab\"/></a>"
      ]
    },
    {
      "cell_type": "code",
      "execution_count": null,
      "metadata": {
        "id": "vpTgRxMcGDhc"
      },
      "outputs": [],
      "source": []
    },
    {
      "cell_type": "code",
      "source": [
        "import pandas as pd\n",
        "from sklearn.metrics.pairwise import cosine_similarity\n",
        "from textblob import TextBlob\n",
        "\n",
        "# 1. Sample Customer Data (interactions + feedback)\n",
        "data = {\n",
        "    'User': ['Alice', 'Alice', 'Bob', 'Charlie', 'Charlie', 'Dave'],\n",
        "    'Product': ['Laptop', 'Phone', 'Laptop', 'Phone', 'Tablet', 'Tablet'],\n",
        "    'Rating': [5, 3, 4, 4, 5, 2],\n",
        "    'Feedback': [\n",
        "        \"Love the laptop quality!\",\n",
        "        \"Phone is okay.\",\n",
        "        \"Good performance.\",\n",
        "        \"Battery life is great!\",\n",
        "        \"Very responsive and sleek.\",\n",
        "        \"Too slow for my work.\"\n",
        "    ]\n",
        "}\n",
        "\n",
        "df = pd.DataFrame(data)\n",
        "\n",
        "# 2. Create User-Product Matrix\n",
        "matrix = df.pivot_table(index='User', columns='Product', values='Rating').fillna(0)\n",
        "\n",
        "# 3. Similarity Matrix\n",
        "similarity = pd.DataFrame(\n",
        "    cosine_similarity(matrix),\n",
        "    index=matrix.index,\n",
        "    columns=matrix.index\n",
        ")\n",
        "\n",
        "# 4. Recommend Products\n",
        "def recommend(user, n=2):\n",
        "    similar_users = similarity[user].sort_values(ascending=False).index[1:]\n",
        "    owned = df[df['User'] == user]['Product'].tolist()\n",
        "    scores = {}\n",
        "\n",
        "    for sim_user in similar_users:\n",
        "        sim_data = df[df['User'] == sim_user]\n",
        "        for _, row in sim_data.iterrows():\n",
        "            if row['Product'] not in owned:\n",
        "                scores[row['Product']] = scores.get(row['Product'], 0) + row['Rating']\n",
        "        if len(scores) >= n:\n",
        "            break\n",
        "\n",
        "    return sorted(scores.items(), key=lambda x: x[1], reverse=True)[:n]\n",
        "\n",
        "# 5. Personalized Email Generator\n",
        "def generate_email(user):\n",
        "    recs = recommend(user)\n",
        "    email = f\"Hello {user},\\n\\nBased on your interest, we think you'll love:\\n\"\n",
        "    for product, _ in recs:\n",
        "        email += f\"- {product}\\n\"\n",
        "    email += \"\\nVisit our site to explore more personalized deals!\\n\"\n",
        "    return email\n",
        "\n",
        "# 6. Sentiment Analysis\n",
        "def analyze_sentiment():\n",
        "    df['Sentiment'] = df['Feedback'].apply(lambda x: TextBlob(x).sentiment.polarity)\n",
        "    return df[['User', 'Product', 'Feedback', 'Sentiment']]\n",
        "\n",
        "# 7. Customer Segmentation\n",
        "def segment_customers():\n",
        "    sentiment_scores = analyze_sentiment().groupby('User')['Sentiment'].mean()\n",
        "    segments = sentiment_scores.apply(lambda x: 'Promoter' if x > 0.5 else 'Passive' if x > 0 else 'Detractor')\n",
        "    return segments\n",
        "\n",
        "# === DEMO ===\n",
        "print(\"=== Recommendations for Alice ===\")\n",
        "print(recommend('Alice'))\n",
        "\n",
        "print(\"\\n=== Personalized Email ===\")\n",
        "print(generate_email('Alice'))\n",
        "\n",
        "print(\"\\n=== Sentiment Analysis ===\")\n",
        "print(analyze_sentiment())\n",
        "\n",
        "print(\"\\n=== Customer Segmentation ===\")\n",
        "print(segment_customers())"
      ],
      "metadata": {
        "id": "OjaF_I-L-JWD",
        "outputId": "7ea744df-0751-4291-b8ab-c33eec9beae7",
        "colab": {
          "base_uri": "https://localhost:8080/"
        }
      },
      "execution_count": null,
      "outputs": [
        {
          "output_type": "stream",
          "name": "stdout",
          "text": [
            "=== Recommendations for Alice ===\n",
            "[('Tablet', 7)]\n",
            "\n",
            "=== Personalized Email ===\n",
            "Hello Alice,\n",
            "\n",
            "Based on your interest, we think you'll love:\n",
            "- Tablet\n",
            "\n",
            "Visit our site to explore more personalized deals!\n",
            "\n",
            "\n",
            "=== Sentiment Analysis ===\n",
            "      User Product                    Feedback  Sentiment\n",
            "0    Alice  Laptop    Love the laptop quality!      0.625\n",
            "1    Alice   Phone              Phone is okay.      0.500\n",
            "2      Bob  Laptop           Good performance.      0.700\n",
            "3  Charlie   Phone      Battery life is great!      1.000\n",
            "4  Charlie  Tablet  Very responsive and sleek.      0.200\n",
            "5     Dave  Tablet       Too slow for my work.     -0.300\n",
            "\n",
            "=== Customer Segmentation ===\n",
            "User\n",
            "Alice       Promoter\n",
            "Bob         Promoter\n",
            "Charlie     Promoter\n",
            "Dave       Detractor\n",
            "Name: Sentiment, dtype: object\n"
          ]
        }
      ]
    }
  ]
}